{
 "cells": [
  {
   "cell_type": "code",
   "execution_count": 3,
   "metadata": {},
   "outputs": [
    {
     "name": "stdout",
     "output_type": "stream",
     "text": [
      "Developed Model\n",
      "Developed Countries RMSE 1.0096204272450917\n",
      "Developed Countries R2 -100.93334071105323\n",
      "Adult Moratlity Coef -0.022394222807719525\n",
      "Alcohol Coef 5.930924709322202\n",
      "BMI Coef 0.006624935127541652\n",
      "GDP Coef -1.1596747096510093e-05\n",
      "Schooling Coef 0.1898994356802723\n"
     ]
    }
   ],
   "source": [
    "import pandas as pd \n",
    "import numpy as np \n",
    "from sklearn.linear_model import LinearRegression\n",
    "from sklearn.metrics import r2_score\n",
    "import math\n",
    "\n",
    "\n",
    "def rmse(y_true, y_pred):\n",
    "    mse = sum((y_true - y_pred)**2) / len(y_true)\n",
    "    return math.sqrt(mse)\n",
    "\n",
    "\n",
    "# data = pd.read_csv(\"Life Expectancy Data.csv\").dropna(subset=[\"Adult Mortality\", \"Alcohol\", \" BMI \", \"GDP\", \"Schooling\", \"Life expectancy \"])\n",
    "\n",
    "data = pd.read_csv(\"Life Expectancy Data.csv\").dropna(subset=[\"Adult Mortality\", \"Alcohol\", \" BMI \", \"GDP\", \"Schooling\", \"Life expectancy \"])\n",
    "\n",
    "developed = data[data[\"Status\"]==\"Developed\"]\n",
    "\n",
    "\n",
    "country_data = data[data[\"Country\"]== \"Norway\"]\n",
    "train_data = country_data[2:]\n",
    "test_data = country_data[:2]\n",
    "X_train = train_data.iloc[:, [4,6,10,16,21]]\n",
    "y_train = train_data.iloc[:,[3]]\n",
    "X_test = test_data.iloc[:, [4,6,10,16,21]]\n",
    "y_test = test_data.iloc[:,[3]]\n",
    "\n",
    "linear_regression = LinearRegression().fit(X_train,y_train)\n",
    "\n",
    "linRegPred_TEST = linear_regression.predict(X_test)\n",
    "linRegReal_TEST = y_test.to_numpy()\n",
    "\n",
    "developedCountriesRMSE = rmse(linRegPred_TEST, linRegReal_TEST)\n",
    "developedCountriesR2 = r2_score(linRegReal_TEST, linRegPred_TEST)\n",
    "\n",
    "Coef_Aus = linear_regression.coef_\n",
    "\n",
    "\n",
    "print(\"Developed Model\")\n",
    "print(\"Developed Countries RMSE \" + str(developedCountriesRMSE))\n",
    "print(\"Developed Countries R2 \" + str(developedCountriesR2))\n",
    "print(\"Adult Moratlity Coef \" + str(Coef_Aus[0][0]))\n",
    "print(\"Alcohol Coef \" + str(Coef_Aus[0][1]))\n",
    "print(\"BMI Coef \" + str(Coef_Aus[0][2]))\n",
    "print(\"GDP Coef \" + str(Coef_Aus[0][3]))\n",
    "print(\"Schooling Coef \" + str(Coef_Aus[0][4]))\n",
    "\n"
   ]
  },
  {
   "cell_type": "code",
   "execution_count": 4,
   "metadata": {},
   "outputs": [
    {
     "name": "stdout",
     "output_type": "stream",
     "text": [
      "Developing Model\n",
      "Developing Countries RMSE 3.0841717753897897\n",
      "Developing Countries R2 -0.4628397601093428\n",
      "Adult Moratlity Coef -0.0012937438894921444\n",
      "Alcohol Coef 5.751619316364295\n",
      "BMI Coef 0.7105312117372354\n",
      "GDP Coef -0.00027071965952198964\n",
      "Schooling Coef 0.13117816424069167\n"
     ]
    }
   ],
   "source": [
    "import pandas as pd \n",
    "import numpy as np \n",
    "from sklearn.linear_model import LinearRegression\n",
    "from sklearn.metrics import r2_score\n",
    "import math\n",
    "\n",
    "\n",
    "def rmse(y_true, y_pred):\n",
    "    mse = sum((y_true - y_pred)**2) / len(y_true)\n",
    "    return math.sqrt(mse)\n",
    "\n",
    "data = pd.read_csv(\"Life Expectancy Data.csv\").dropna(subset=[\"Adult Mortality\", \"Alcohol\", \" BMI \", \"GDP\", \"Schooling\", \"Life expectancy \"])\n",
    "\n",
    "\n",
    "developing = data[data[\"Status\"]==\"Developing\"]\n",
    "\n",
    "country_data = data[data[\"Country\"]== \"Afghanistan\"]\n",
    "train_data = country_data[2:]\n",
    "test_data = country_data[:2]\n",
    "X_train = train_data.iloc[:, [4,6,10,16,21]]\n",
    "y_train = train_data.iloc[:,[3]]\n",
    "X_test = test_data.iloc[:, [4,6,10,16,21]]\n",
    "y_test = test_data.iloc[:,[3]]\n",
    "\n",
    "linear_regression = LinearRegression().fit(X_train,y_train)\n",
    "\n",
    "linRegPred_TEST = linear_regression.predict(X_test)\n",
    "linRegReal_TEST = y_test.to_numpy()\n",
    "\n",
    "developingCountriesRMSE = rmse(linRegPred_TEST, linRegReal_TEST)\n",
    "developingCountriesR2 = r2_score(linRegReal_TEST, linRegPred_TEST)\n",
    "\n",
    "CoefAfghan = linear_regression.coef_\n",
    "\n",
    "print(\"Developing Model\")\n",
    "print(\"Developing Countries RMSE \" + str(developingCountriesRMSE))\n",
    "print(\"Developing Countries R2 \" + str(developingCountriesR2))\n",
    "\n",
    "print(\"Adult Moratlity Coef \" + str(CoefAfghan[0][0]))\n",
    "print(\"Alcohol Coef \" + str(CoefAfghan[0][1]))\n",
    "print(\"BMI Coef \" + str(CoefAfghan[0][2]))\n",
    "print(\"GDP Coef \" + str(CoefAfghan[0][3]))\n",
    "print(\"Schooling Coef \" + str(CoefAfghan[0][4]))"
   ]
  }
 ],
 "metadata": {
  "kernelspec": {
   "display_name": "Python 3",
   "language": "python",
   "name": "python3"
  },
  "language_info": {
   "codemirror_mode": {
    "name": "ipython",
    "version": 3
   },
   "file_extension": ".py",
   "mimetype": "text/x-python",
   "name": "python",
   "nbconvert_exporter": "python",
   "pygments_lexer": "ipython3",
   "version": "3.10.10"
  },
  "orig_nbformat": 4,
  "vscode": {
   "interpreter": {
    "hash": "bd31f8dbd6618870f760b27f7e0a29a561a220180c8c4903b766def530193d15"
   }
  }
 },
 "nbformat": 4,
 "nbformat_minor": 2
}
